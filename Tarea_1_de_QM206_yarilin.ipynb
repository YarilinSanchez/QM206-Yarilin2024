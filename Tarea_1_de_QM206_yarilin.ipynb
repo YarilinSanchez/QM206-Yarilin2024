{
  "nbformat": 4,
  "nbformat_minor": 0,
  "metadata": {
    "colab": {
      "provenance": [],
      "authorship_tag": "ABX9TyP0LotU+uVJFu63mdmWMWPX",
      "include_colab_link": true
    },
    "kernelspec": {
      "name": "python3",
      "display_name": "Python 3"
    },
    "language_info": {
      "name": "python"
    }
  },
  "cells": [
    {
      "cell_type": "markdown",
      "metadata": {
        "id": "view-in-github",
        "colab_type": "text"
      },
      "source": [
        "<a href=\"https://colab.research.google.com/github/YarilinSanchez/QM206-Yarilin2024/blob/main/Tarea_1_de_QM206_yarilin.ipynb\" target=\"_parent\"><img src=\"https://colab.research.google.com/assets/colab-badge.svg\" alt=\"Open In Colab\"/></a>"
      ]
    },
    {
      "cell_type": "markdown",
      "source": [
        "Tarea\n",
        "Esgoger los 20 primeros elementos de la tabla periódica y hacer una lista de diccionario"
      ],
      "metadata": {
        "id": "M_RKICnIDgrB"
      }
    },
    {
      "cell_type": "code",
      "execution_count": null,
      "metadata": {
        "colab": {
          "base_uri": "https://localhost:8080/"
        },
        "id": "catore97-x5m",
        "outputId": "34e3e6c1-1acf-4971-9315-7bc1cc32f24d"
      },
      "outputs": [
        {
          "output_type": "stream",
          "name": "stdout",
          "text": [
            "[{'simbolo': 'H', 'NA': 1, 'masa': 1.0078}, {'simbolo': 'O', 'NA': 8, 'masa': 16.0}, {'simbolo': 'Na', 'NA': 11, 'masa': 22.99}, {'simbolo': 'S', 'NA': 16, 'masa': 32.06}, {'simbolo': 'C', 'NA': 6, 'masa': 12.01}, {'simbolo': 'B', 'NA': 5, 'masa': 10.81}, {'simbolo': 'F', 'NA': 9, 'masa': 18.99}, {'simbolo': 'K', 'NA': 19, 'masa': 39.09}, {'simbolo': 'Fe', 'NA': 26, 'masa': 55.84}, {'simbolo': 'Cl', 'NA': 17, 'masa': 35.45}, {'simbolo': 'He', 'NA': 2, 'masa': 4.0}, {'simbolo': 'Al', 'NA': 13, 'masa': 26.98}, {'simbolo': 'Mg', 'NA': 12, 'masa': 24.3}, {'simbolo': 'Ag', 'NA': 47, 'masa': 107.87}, {'simbolo': 'Au', 'NA': 79, 'masa': 196.97}, {'simbolo': 'Kr', 'NA': 36, 'masa': 83.79}, {'simbolo': 'V', 'NA': 23, 'masa': 50.94}, {'simbolo': 'I', 'NA': 53, 'masa': 126.9}, {'simbolo': 'Ne', 'NA': 10, 'masa': 20.18}, {'simbolo': 'Y', 'NA': 39, 'masa': 88.9}]\n",
            "20\n",
            "{'simbolo': 'H', 'NA': 1, 'masa': 1.0078}\n",
            "{'simbolo': 'O', 'NA': 8, 'masa': 16.0}\n",
            "{'simbolo': 'Na', 'NA': 11, 'masa': 22.99}\n",
            "{'simbolo': 'S', 'NA': 16, 'masa': 32.06}\n",
            "{'simbolo': 'C', 'NA': 6, 'masa': 12.01}\n",
            "{'simbolo': 'B', 'NA': 5, 'masa': 10.81}\n",
            "{'simbolo': 'F', 'NA': 9, 'masa': 18.99}\n",
            "{'simbolo': 'K', 'NA': 19, 'masa': 39.09}\n",
            "{'simbolo': 'Fe', 'NA': 26, 'masa': 55.84}\n",
            "{'simbolo': 'Cl', 'NA': 17, 'masa': 35.45}\n",
            "{'simbolo': 'He', 'NA': 2, 'masa': 4.0}\n",
            "{'simbolo': 'Al', 'NA': 13, 'masa': 26.98}\n",
            "{'simbolo': 'Mg', 'NA': 12, 'masa': 24.3}\n",
            "{'simbolo': 'Ag', 'NA': 47, 'masa': 107.87}\n",
            "{'simbolo': 'Au', 'NA': 79, 'masa': 196.97}\n",
            "{'simbolo': 'Kr', 'NA': 36, 'masa': 83.79}\n",
            "{'simbolo': 'V', 'NA': 23, 'masa': 50.94}\n",
            "{'simbolo': 'I', 'NA': 53, 'masa': 126.9}\n",
            "{'simbolo': 'Ne', 'NA': 10, 'masa': 20.18}\n",
            "{'simbolo': 'Y', 'NA': 39, 'masa': 88.9}\n"
          ]
        }
      ],
      "source": [
        "elementos=[]\n",
        "elem={\"simbolo\":\"H\",\"NA\":1,\"masa\":1.0078}\n",
        "elementos.append(elem)\n",
        "elem={\"simbolo\":\"O\",\"NA\":8,\"masa\":16.00}\n",
        "elementos.append(elem)\n",
        "elem={\"simbolo\":\"Na\",\"NA\":11,\"masa\":22.99}\n",
        "elementos.append(elem)\n",
        "elem={\"simbolo\":\"S\",\"NA\":16,\"masa\":32.06}\n",
        "elementos.append(elem)\n",
        "elem={\"simbolo\":\"C\",\"NA\":6,\"masa\":12.01}\n",
        "elementos.append(elem)\n",
        "elem={\"simbolo\":\"B\",\"NA\":5,\"masa\":10.81}\n",
        "elementos.append(elem)\n",
        "elem={\"simbolo\":\"F\",\"NA\":9,\"masa\":18.99}\n",
        "elementos.append(elem)\n",
        "elem={\"simbolo\":\"K\",\"NA\":19,\"masa\":39.09}\n",
        "elementos.append(elem)\n",
        "elem={\"simbolo\":\"Fe\",\"NA\":26,\"masa\":55.84}\n",
        "elementos.append(elem)\n",
        "elem={\"simbolo\":\"Cl\",\"NA\":17,\"masa\":35.45}\n",
        "elementos.append(elem)\n",
        "elem={\"simbolo\":\"He\",\"NA\":2,\"masa\":4.00}\n",
        "elementos.append(elem)\n",
        "elem={\"simbolo\":\"Al\",\"NA\":13,\"masa\":26.98}\n",
        "elementos.append(elem)\n",
        "elem={\"simbolo\":\"Mg\",\"NA\":12,\"masa\":24.30}\n",
        "elementos.append(elem)\n",
        "elem={\"simbolo\":\"Ag\",\"NA\":47,\"masa\":107.87}\n",
        "elementos.append(elem)\n",
        "elem={\"simbolo\":\"Au\",\"NA\":79,\"masa\":196.97}\n",
        "elementos.append(elem)\n",
        "elem={\"simbolo\":\"Kr\",\"NA\":36,\"masa\":83.79}\n",
        "elementos.append(elem)\n",
        "elem={\"simbolo\":\"V\",\"NA\":23,\"masa\":50.94}\n",
        "elementos.append(elem)\n",
        "elem={\"simbolo\":\"I\",\"NA\":53,\"masa\":126.90}\n",
        "elementos.append(elem)\n",
        "elem={\"simbolo\":\"Ne\",\"NA\":10,\"masa\":20.18}\n",
        "elementos.append(elem)\n",
        "elem={\"simbolo\":\"Y\",\"NA\":39,\"masa\":88.90}\n",
        "elementos.append(elem)\n",
        "print(elementos)\n",
        "n=len(elementos)\n",
        "print(n)\n",
        "print(elementos[0])\n",
        "print(elementos[1])\n",
        "print(elementos[2])\n",
        "print(elementos[3])\n",
        "print(elementos[4])\n",
        "print(elementos[5])\n",
        "print(elementos[6])\n",
        "print(elementos[7])\n",
        "print(elementos[8])\n",
        "print(elementos[9])\n",
        "print(elementos[10])\n",
        "print(elementos[11])\n",
        "print(elementos[12])\n",
        "print(elementos[13])\n",
        "print(elementos[14])\n",
        "print(elementos[15])\n",
        "print(elementos[16])\n",
        "print(elementos[17])\n",
        "print(elementos[18])\n",
        "print(elementos[19])"
      ]
    }
  ]
}