{
  "nbformat": 4,
  "nbformat_minor": 0,
  "metadata": {
    "colab": {
      "provenance": [],
      "authorship_tag": "ABX9TyPISixJNqivW33hyY6V27Dh",
      "include_colab_link": true
    },
    "kernelspec": {
      "name": "python3",
      "display_name": "Python 3"
    },
    "language_info": {
      "name": "python"
    }
  },
  "cells": [
    {
      "cell_type": "markdown",
      "metadata": {
        "id": "view-in-github",
        "colab_type": "text"
      },
      "source": [
        "<a href=\"https://colab.research.google.com/github/YarilinSanchez/QM206-Yarilin2024/blob/main/Parcial_1_Yarilin_S_.ipynb\" target=\"_parent\"><img src=\"https://colab.research.google.com/assets/colab-badge.svg\" alt=\"Open In Colab\"/></a>"
      ]
    },
    {
      "cell_type": "markdown",
      "source": [
        "## Parcial #1\n",
        "Nombre: Yarilín Sánchez\n",
        "C.I.P: 4-826-1641\n",
        "Qm206"
      ],
      "metadata": {
        "id": "C6hMRRTsA6Cj"
      }
    },
    {
      "cell_type": "markdown",
      "source": [
        "1.Hacer una función que calcule la concentración molar parámetros de la g V(ml) PM  \n",
        "\n",
        "M= m(g)/(P.M)x(L)\n",
        "\n",
        "ejemplo:\n",
        "¿Cuál será la concentración molar (o molaridad) de una solución de fluoruro de\n",
        "calcio (CaF2) que contiene 8 g del soluto en 250 ml de solución?\n",
        "\n",
        "\n",
        "\n"
      ],
      "metadata": {
        "id": "okzs222Jkr21"
      }
    },
    {
      "cell_type": "code",
      "source": [
        "def concentracion_molar(masa_soluto, volumen_solucion_ml, pm_soluto):\n",
        "    volumen_solucion_l = volumen_solucion_ml / 1000\n",
        "    concentracion = masa_soluto / (pm_soluto * volumen_solucion_l)\n",
        "    return concentracion\n",
        "# Ejemplo de uso\n",
        "masa_soluto = 8  # en gramos\n",
        "volumen_solucion_ml = 250  # en mililitros\n",
        "pm_soluto = 78.08  # Peso molecular del CaF2 (en g/mol)\n",
        "\n",
        "concentracion = concentracion_molar(masa_soluto, volumen_solucion_ml, pm_soluto)\n",
        "print(f\"La concentración molar de la solución es: {concentracion:.3f} mol/L\")\n"
      ],
      "metadata": {
        "colab": {
          "base_uri": "https://localhost:8080/"
        },
        "id": "UD-DibZgknhV",
        "outputId": "c635c02f-501e-48b8-ebb5-92d6327d12b1"
      },
      "execution_count": null,
      "outputs": [
        {
          "output_type": "stream",
          "name": "stdout",
          "text": [
            "La concentración molar de la solución es: 0.410 mol/L\n"
          ]
        }
      ]
    },
    {
      "cell_type": "markdown",
      "source": [
        "2.   Una función que calcule el pH de una solución de acido fuerte\n",
        "\n",
        "ejemplo: ¿Cuál es el pH de 0,3 M HNO3?"
      ],
      "metadata": {
        "id": "5yATzZozBU9w"
      }
    },
    {
      "cell_type": "code",
      "source": [
        "def calcular_pH(concentracion_H):\n",
        "    \"\"\"\n",
        "    Calcula el pH de una solución de ácido fuerte.\n",
        "\n",
        "    Parámetro:\n",
        "    concentracion_H (float): Concentración de iones H+ en moles por litro (M).\n",
        "\n",
        "    Retorna:\n",
        "    float: Valor del pH.\n",
        "    \"\"\"\n",
        "    if concentracion_H <= 0:\n",
        "        raise ValueError(\"La concentración de iones H+ debe ser mayor que cero.\")\n",
        "    pH = -math.log10(concentracion_H)\n",
        "    return pH\n",
        "\n",
        "# Ejemplo de uso\n",
        "concentracion = 0.3  # Molaridad de H+\n",
        "pH = calcular_pH(concentracion)\n",
        "print(f\"El pH de la solución es: {pH:.2f}\")"
      ],
      "metadata": {
        "colab": {
          "base_uri": "https://localhost:8080/"
        },
        "id": "crIog44OBkki",
        "outputId": "3584be31-255a-4f32-8e22-0fe383c7bae2"
      },
      "execution_count": null,
      "outputs": [
        {
          "output_type": "stream",
          "name": "stdout",
          "text": [
            "El pH de la solución es: 0.52\n"
          ]
        }
      ]
    },
    {
      "cell_type": "markdown",
      "source": [
        "3. Calcular la masa molar de un gas ideal\n",
        "\n",
        "Parametros:\n",
        "La función\n",
        "Gramos\n",
        "Volumen\n",
        "Temperatura en °C\n",
        "Presión en Atm\n",
        "R es una constante\n",
        "\n",
        "ejemplo: ¿Cuál es la masa molar de un gas si 0,281 g de este ocupan un volumen de 0.125 L a una temperatura de 399.15 K y una presión de 1.022 atm?"
      ],
      "metadata": {
        "id": "kGa9rbo2Bjub"
      }
    },
    {
      "cell_type": "code",
      "source": [
        "def calcular_masa_molar(masa, volumen, presion, temperatura):\n",
        "    R = 0.0821\n",
        "    masa_molar = (masa * R * temperatura) / (presion * volumen)\n",
        "    return masa_molar\n",
        "\n",
        "# Ejemplo de uso\n",
        "masa = 0.281  # en gramos\n",
        "volumen = 0.125  # en litros\n",
        "presion = 1.022  # en atm\n",
        "temperatura = 399.15  # en Kelvin (aproximadamente 25°C)\n",
        "\n",
        "masa_molar = calcular_masa_molar(masa, volumen, presion, temperatura)\n",
        "print(f\"La masa molar es: {masa_molar} g/mol\")"
      ],
      "metadata": {
        "colab": {
          "base_uri": "https://localhost:8080/"
        },
        "id": "Fta9th26DakD",
        "outputId": "cba6bf34-73b0-4f86-e120-7819b4f2f8b6"
      },
      "execution_count": null,
      "outputs": [
        {
          "output_type": "stream",
          "name": "stdout",
          "text": [
            "La masa molar es: 72.08164708414873 g/mol\n"
          ]
        }
      ]
    },
    {
      "cell_type": "markdown",
      "source": [
        "4. Calcule las contraciones de acido y base conjugada para la preparación de un buffer\n",
        "\n",
        "parametros:\n",
        "Ph, constante de acidez y el volumen en mL\n",
        "\n",
        "ejemplo: deseas preparar un buffer con un pH de 7.4 utilizando ácido acético (CH₃COOH) y su base conjugada, el acetato de sodio (CH₃COONa). La constante de acidez (Kₐ) del ácido acético es de 1.8 x 10⁻⁵. Se requieren 500 mL de solución buffer"
      ],
      "metadata": {
        "id": "iU3A42ImDsmz"
      }
    },
    {
      "cell_type": "code",
      "source": [
        "import math\n",
        "\n",
        "def calcular_concentraciones_buffer(ph, ka, volumen_ml):\n",
        "    \"\"\"\n",
        "    Calcula las concentraciones de ácido (HA) y base conjugada (A-) necesarias\n",
        "    para preparar un buffer.\n",
        "\n",
        "    :param ph: pH deseado\n",
        "    :param ka: constante de acidez del ácido (K_a)\n",
        "    :param volumen_ml: volumen de la solución en mL\n",
        "    :return: Concentraciones de HA y A- en mol/L\n",
        "    \"\"\"\n",
        "    pKa = -math.log10(ka)\n",
        "    ratio = 10**(ph - pKa)\n",
        "    C_total = 1  # Se puede ajustar según sea necesario\n",
        "    A_conc = C_total / (1 + (1 / ratio))  # [A-]\n",
        "    HA_conc = C_total - A_conc              # [HA]\n",
        "    volumen_litros = volumen_ml / 1000\n",
        "    return HA_conc, A_conc\n",
        "\n",
        "# Ejemplo de uso\n",
        "ph = 7.4       # pH deseado\n",
        "ka = 1.8e-5    # Constante de acidez para el ácido acético (CH3COOH)\n",
        "volumen_ml = 500  # Volumen en mL\n",
        "\n",
        "HA_conc, A_conc = calcular_concentraciones_buffer(ph, ka, volumen_ml)\n",
        "print(f'Concentración de ácido (HA): {HA_conc:.4f} M')\n",
        "print(f'Concentración de base conjugada (A-): {A_conc:.4f} M')"
      ],
      "metadata": {
        "colab": {
          "base_uri": "https://localhost:8080/"
        },
        "id": "u1TWzeNi-bYa",
        "outputId": "be0c8d2c-8bc6-4876-aadb-c308b4e2a4b7"
      },
      "execution_count": 2,
      "outputs": [
        {
          "output_type": "stream",
          "name": "stdout",
          "text": [
            "Concentración de ácido (HA): 0.0022 M\n",
            "Concentración de base conjugada (A-): 0.9978 M\n"
          ]
        }
      ]
    },
    {
      "cell_type": "markdown",
      "source": [
        "5. Calcular la energía liberada en una ecuación química\n",
        "\n",
        "Parámetros:\n",
        "Moles del reactivo\n",
        "Delta H de formación\n",
        "\n",
        "ejemplo: Sabiendo que la entalpía de formación del CCl4 es -135,4 kJ/mol, calcula la energía liberada cuando se emplean 1.4 moles de Cl2 en la formación de CCl4"
      ],
      "metadata": {
        "id": "oaVLMpydD_5i"
      }
    },
    {
      "cell_type": "code",
      "source": [
        "def calcular_energia_liberada(moles, delta_H):\n",
        "    energia = moles * delta_H\n",
        "    return energia\n",
        "\n",
        "# Ejemplo de uso\n",
        "moles = 1.4  # moles de reactivo\n",
        "delta_H = -315.8  # kJ/mol, ejemplo para formación de agua\n",
        "\n",
        "energia_liberada = calcular_energia_liberada(moles, delta_H)\n",
        "print(f\"La energía liberada es: {energia_liberada} kJ\")\n",
        "\n"
      ],
      "metadata": {
        "colab": {
          "base_uri": "https://localhost:8080/"
        },
        "id": "C7m5pUjmD_N0",
        "outputId": "77f85d6c-20ab-4e72-8921-bf8a5840c93d"
      },
      "execution_count": null,
      "outputs": [
        {
          "output_type": "stream",
          "name": "stdout",
          "text": [
            "La energía liberada es: -442.12 kJ\n"
          ]
        }
      ]
    },
    {
      "cell_type": "markdown",
      "source": [
        "6. Calcule el rendimiento porcentual\n",
        "\n",
        "parametros:\n",
        "Masa teorica y experimental\n",
        "\n",
        "ejemplo: Se realizó la síntesis de ácido fumárico, obteniendo 0.49 gramos como masa experimental, mientras que la masa teórica calculada era de 1.0 gramos. ¿Cuál es el rendimiento porcentual de la reacción?"
      ],
      "metadata": {
        "id": "1YychIOMFEkc"
      }
    },
    {
      "cell_type": "code",
      "source": [
        "def calcular_rendimiento_porcentual(masa_teorica, masa_exp):\n",
        "    \"\"\"\n",
        "    Calcula el rendimiento porcentual de una reacción.\n",
        "\n",
        "    Parámetros:\n",
        "    masa_teorica (float): Masa teórica esperada de producto (en gramos).\n",
        "    masa_exp (float): Masa experimental obtenida de producto (en gramos).\n",
        "\n",
        "    Retorna:\n",
        "    float: Rendimiento porcentual.\n",
        "    \"\"\"\n",
        "    if masa_teorica <= 0:\n",
        "        raise ValueError(\"La masa teórica debe ser mayor que cero.\")\n",
        "\n",
        "    rendimiento_porcentual = (masa_exp / masa_teorica) * 100\n",
        "    return rendimiento_porcentual\n",
        "\n",
        "# Ejemplo de uso\n",
        "masa_teorica = 1.0  # masa teórica en gramos\n",
        "masa_exp = 0.49  # masa experimental en gramos\n",
        "\n",
        "rendimiento = calcular_rendimiento_porcentual(masa_teorica, masa_exp)\n",
        "print(f'El rendimiento porcentual de la reacción es: {rendimiento:.2f}%')"
      ],
      "metadata": {
        "colab": {
          "base_uri": "https://localhost:8080/"
        },
        "id": "qrrD7DTwFFAD",
        "outputId": "8a4219af-53be-4386-87b1-07dbbf1ad6f3"
      },
      "execution_count": null,
      "outputs": [
        {
          "output_type": "stream",
          "name": "stdout",
          "text": [
            "El rendimiento porcentual de la reacción es: 49.00%\n"
          ]
        }
      ]
    },
    {
      "cell_type": "markdown",
      "source": [
        "7. Calcular el calor especifico de un metal\n",
        "\n",
        "Masa, delta T y el calor especifico\n",
        "\n",
        "ejemplo: Se adicionaron 750 J de calor a una muestra de 25 g de un metal, provocando un aumento de temperatura de 15 °C. ¿Cuál es el calor específico del metal?"
      ],
      "metadata": {
        "id": "bRdXn77DFU3p"
      }
    },
    {
      "cell_type": "code",
      "source": [
        "def calcular_calor_especifico(Q, masa, delta_T):\n",
        "    calor_especifico = Q / (masa * delta_T)\n",
        "    return calor_especifico\n",
        "\n",
        "# Ejemplo de uso\n",
        "Q = 750  # en Joules\n",
        "masa = 25  # en gramos\n",
        "delta_T = 15  # en grados Celsius\n",
        "\n",
        "calor_especifico = calcular_calor_especifico(Q, masa, delta_T)\n",
        "print(f\"El calor específico del metal es: {calor_especifico} J/g·°C\")"
      ],
      "metadata": {
        "colab": {
          "base_uri": "https://localhost:8080/"
        },
        "id": "eMCiLSCiFVfC",
        "outputId": "d4a5139e-350f-4eb1-f6d5-79c30e765943"
      },
      "execution_count": null,
      "outputs": [
        {
          "output_type": "stream",
          "name": "stdout",
          "text": [
            "El calor específico del metal es: 2.0 J/g·°C\n"
          ]
        }
      ]
    },
    {
      "cell_type": "markdown",
      "source": [
        "8. Calculo que calcule la presión osmótica a 25°C\n",
        "\n",
        "Concentracion (g/L)\n",
        "p.m\n",
        "temperatura °C\n",
        "R es constante\n",
        "\n",
        "ejemplo: Calcula la presión osmótica de una disolución que contiene 24 g/L de sacarosa (C12H22O11)  en 0.5 L de disolución, a 20 ºC."
      ],
      "metadata": {
        "id": "ZoFMi_ktFuU5"
      }
    },
    {
      "cell_type": "code",
      "source": [
        "def calcular_presion_osmotica(concentracion_gL, pm_soluto, temperatura_C):\n",
        "    \"\"\"\n",
        "    Calcula la presión osmótica de una solución.\n",
        "\n",
        "    Parámetros:\n",
        "    concentracion_gL (float): Concentración de la solución en g/L.\n",
        "    pm_soluto (float): Masa molar del soluto en g/mol.\n",
        "    temperatura_C (float): Temperatura en °C.\n",
        "\n",
        "    Retorna:\n",
        "    float: Presión osmótica en atmósferas.\n",
        "    \"\"\"\n",
        "    R = 0.0821\n",
        "    temperatura_K = temperatura_C + 273.15\n",
        "    molaridad = concentracion_gL / pm_soluto\n",
        "    presion_osmotica = molaridad * R * temperatura_K\n",
        "    return presion_osmotica\n",
        "\n",
        "# Ejemplo de uso\n",
        "concentracion_gL = 24.0  # Concentración en g/L\n",
        "pm_soluto = 342.30        # Masa molar del Sacarosa (C12H22O11) en g/mol\n",
        "temperatura_C = 20.0      # Temperatura en °C\n",
        "\n",
        "presion = calcular_presion_osmotica(concentracion_gL, pm_soluto, temperatura_C)\n",
        "print(f'La presión osmótica de la solución es: {presion:.2f} atm')"
      ],
      "metadata": {
        "colab": {
          "base_uri": "https://localhost:8080/"
        },
        "id": "YZjuvugKFurH",
        "outputId": "19903732-a75e-4cc4-9609-683c2300f034"
      },
      "execution_count": null,
      "outputs": [
        {
          "output_type": "stream",
          "name": "stdout",
          "text": [
            "La presión osmótica de la solución es: 1.69 atm\n"
          ]
        }
      ]
    },
    {
      "cell_type": "markdown",
      "source": [
        "9. Calcular el producto de solubilidad de una sal insoluble que calcule la solubilidad y regresar en Kps\n",
        "\n",
        "ejemplo: Se desea calcular el producto de solubilidad (Kps) de el sulfato de plomo (II) (PbSO₄). Si la solubilidad del PbSO₄ en agua a 25 °C es de 0.00020 mol/L, ¿cuál es el valor de Kps para esta sal insoluble?"
      ],
      "metadata": {
        "id": "iSdT_yU6GSQY"
      }
    },
    {
      "cell_type": "code",
      "source": [
        "def calcular_ksp(solubilidad):\n",
        "    \"\"\"\n",
        "    Calcula el producto de solubilidad (Ksp) de una sal insoluble.\n",
        "\n",
        "    :param solubilidad: Solubilidad de la sal en mol/L\n",
        "    :return: Producto de solubilidad (Ksp)\n",
        "    \"\"\"\n",
        "    if solubilidad < 0:\n",
        "        raise ValueError(\"La solubilidad no puede ser negativa.\")\n",
        "\n",
        "\n",
        "    ksp = solubilidad ** 2  # Para la sal AB: Ksp = S^2\n",
        "    return ksp\n",
        "\n",
        "# Ejemplo de uso directo de la función\n",
        "solubilidad_ejemplo = 0.00020  # Sal en mol/L\n",
        "ksp_resultado = calcular_ksp(solubilidad_ejemplo)\n",
        "print(f'El producto de solubilidad Ksp es: {ksp_resultado:.5e}')"
      ],
      "metadata": {
        "colab": {
          "base_uri": "https://localhost:8080/"
        },
        "id": "I86XS9YKATXe",
        "outputId": "a3d94925-b6e4-4ebe-9e5f-6fa303a97aa8"
      },
      "execution_count": null,
      "outputs": [
        {
          "output_type": "stream",
          "name": "stdout",
          "text": [
            "El producto de solubilidad Ksp es: 4.00000e-08\n"
          ]
        }
      ]
    },
    {
      "cell_type": "markdown",
      "source": [
        "10. Escoja un problema\n",
        "\n",
        "parametro:\n",
        "tener grafica, utiliza numphy, panda, matloblit\n",
        "\n",
        "ejemplo: Calcular las concentraciones de ácido y base conjugada y graficar el pH resultante al variar la relación entre ellos."
      ],
      "metadata": {
        "id": "alFWRYHLJP_R"
      }
    },
    {
      "cell_type": "code",
      "source": [
        "import numpy as np\n",
        "import pandas as pd\n",
        "import matplotlib.pyplot as plt\n",
        "import math\n",
        "\n",
        "def calcular_ph(HA_conc, A_conc, ka):\n",
        "    \"\"\"\n",
        "\n",
        "    :param HA_conc: Concentración del ácido (HA) en mol/L\n",
        "    :param A_conc: Concentración de la base conjugada (A-) en mol/L\n",
        "    :param ka: Constante de acidez del ácido (K_a)\n",
        "    :return: pH de la solución\n",
        "    \"\"\"\n",
        "    pKa = -math.log10(ka)\n",
        "    return pKa + math.log10(A_conc / HA_conc)\n",
        "\n",
        "ka = 1.8e-5  # Constante de acidez para el ácido acético (CH3COOH)\n",
        "volumen_ml = 500  # Volumen en mL\n",
        "C_total = 1  # Concentración total del buffer en mol/L\n",
        "\n",
        "A_conc_values = np.linspace(0.01, 0.99, 100)  # Concentraciones de A- de 0.01 a 0.99 M\n",
        "HA_conc_values = C_total - A_conc_values        # Calcular las correspondientes concentraciones de HA\n",
        "\n",
        "pH_values = [calcular_ph(ha, a, ka) for ha, a in zip(HA_conc_values, A_conc_values)]\n",
        "\n",
        "df = pd.DataFrame({\n",
        "    'Concentración de A- (M)': A_conc_values,\n",
        "    'pH': pH_values  })\n",
        "\n",
        "plt.figure(figsize=(10, 6))\n",
        "plt.plot(df['Concentración de A- (M)'], df['pH'], color='red', label='pH del buffer')\n",
        "plt.title('Variación del pH de un buffer al cambiar la concentración de A-')\n",
        "plt.xlabel('Concentración de A- (M)')\n",
        "plt.ylabel('pH')\n",
        "plt.axhline(y=7.4, color='blue', linestyle='--', label='pH deseado = 7.4')\n",
        "plt.legend()\n",
        "plt.grid()\n",
        "plt.show()"
      ],
      "metadata": {
        "colab": {
          "base_uri": "https://localhost:8080/",
          "height": 565
        },
        "id": "sXqnA6hcKuKy",
        "outputId": "f2ab8bcd-97f6-41a4-fa3b-f4f06f3dc705"
      },
      "execution_count": 6,
      "outputs": [
        {
          "output_type": "display_data",
          "data": {
            "text/plain": [
              "<Figure size 1000x600 with 1 Axes>"
            ],
            "image/png": "[encoded data removed]"
          },
          "metadata": {}
        }
      ]
    }
  ]
}