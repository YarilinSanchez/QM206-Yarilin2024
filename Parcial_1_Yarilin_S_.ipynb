{
  "nbformat": 4,
  "nbformat_minor": 0,
  "metadata": {
    "colab": {
      "provenance": [],
      "authorship_tag": "ABX9TyOdi9xKm/UlB99bYTOaOY/s",
      "include_colab_link": true
    },
    "kernelspec": {
      "name": "python3",
      "display_name": "Python 3"
    },
    "language_info": {
      "name": "python"
    }
  },
  "cells": [
    {
      "cell_type": "markdown",
      "metadata": {
        "id": "view-in-github",
        "colab_type": "text"
      },
      "source": [
        "<a href=\"https://colab.research.google.com/github/YarilinSanchez/QM206-Yarilin2024/blob/main/Parcial_1_Yarilin_S_.ipynb\" target=\"_parent\"><img src=\"https://colab.research.google.com/assets/colab-badge.svg\" alt=\"Open In Colab\"/></a>"
      ]
    },
    {
      "cell_type": "markdown",
      "source": [
        "## Parcial #1\n",
        "Nombre: Yarilín Sánchez\n",
        "C.I.P: 4-826-1641\n",
        "Qm206"
      ],
      "metadata": {
        "id": "C6hMRRTsA6Cj"
      }
    },
    {
      "cell_type": "markdown",
      "source": [
        "1.Hacer una función que calcule la concentración molar parámetros de la g V(ml) PM  \n",
        "\n",
        "M= m(g)/(P.M)x(L)\n",
        "\n",
        "ejemplo:\n",
        "¿Cuál será la concentración molar (o molaridad) de una solución de fluoruro de\n",
        "calcio (CaF2) que contiene 8 g del soluto en 250 ml de solución?\n",
        "\n",
        "\n",
        "\n"
      ],
      "metadata": {
        "id": "okzs222Jkr21"
      }
    },
    {
      "cell_type": "code",
      "source": [
        "def concentracion_molar(masa_soluto, volumen_solucion_ml, pm_soluto):\n",
        "    # Convertir volumen de ml a litros\n",
        "    volumen_solucion_l = volumen_solucion_ml / 1000\n",
        "\n",
        "    # Calcular la concentración molar\n",
        "    concentracion = masa_soluto / (pm_soluto * volumen_solucion_l)\n",
        "\n",
        "    return concentracion\n",
        "\n",
        "# Ejemplo de uso\n",
        "masa_soluto = 8  # en gramos\n",
        "volumen_solucion_ml = 250  # en mililitros\n",
        "pm_soluto = 78.08  # Peso molecular del CaF2 (en g/mol)\n",
        "\n",
        "concentracion = concentracion_molar(masa_soluto, volumen_solucion_ml, pm_soluto)\n",
        "print(f\"La concentración molar de la solución es: {concentracion:.3f} mol/L\")\n"
      ],
      "metadata": {
        "colab": {
          "base_uri": "https://localhost:8080/"
        },
        "id": "UD-DibZgknhV",
        "outputId": "be599ef3-f5f2-4254-9e15-48b59ceece0c"
      },
      "execution_count": 5,
      "outputs": [
        {
          "output_type": "stream",
          "name": "stdout",
          "text": [
            "La concentración molar de la solución es: 0.410 mol/L\n"
          ]
        }
      ]
    },
    {
      "cell_type": "markdown",
      "source": [
        "2.   Una función que calcule el pH de una solución de acido fuerte\n",
        "\n",
        "ejemplo: ¿Cuál es el pH de 0,3 M HNO3?"
      ],
      "metadata": {
        "id": "5yATzZozBU9w"
      }
    },
    {
      "cell_type": "code",
      "source": [
        "def calcular_pH(concentracion_H):\n",
        "    \"\"\"\n",
        "    Calcula el pH de una solución de ácido fuerte.\n",
        "\n",
        "    Parámetro:\n",
        "    concentracion_H (float): Concentración de iones H+ en moles por litro (M).\n",
        "\n",
        "    Retorna:\n",
        "    float: Valor del pH.\n",
        "    \"\"\"\n",
        "    if concentracion_H <= 0:\n",
        "        raise ValueError(\"La concentración de iones H+ debe ser mayor que cero.\")\n",
        "\n",
        "    pH = -math.log10(concentracion_H)\n",
        "    return pH\n",
        "\n",
        "# Ejemplo de uso\n",
        "concentracion = 0.3  # Molaridad de H+\n",
        "pH = calcular_pH(concentracion)\n",
        "print(f\"El pH de la solución es: {pH:.2f}\")"
      ],
      "metadata": {
        "colab": {
          "base_uri": "https://localhost:8080/"
        },
        "id": "crIog44OBkki",
        "outputId": "8cb5163c-c1b1-48e7-f436-2ae6164f85b4"
      },
      "execution_count": 37,
      "outputs": [
        {
          "output_type": "stream",
          "name": "stdout",
          "text": [
            "El pH de la solución es: 0.52\n"
          ]
        }
      ]
    },
    {
      "cell_type": "markdown",
      "source": [
        "3. Calcular la masa molar de un gas ideal\n",
        "\n",
        "Parametros:\n",
        "La función\n",
        "Gramos\n",
        "Volumen\n",
        "Temperatura en °C\n",
        "Presión en Atm\n",
        "R es una constante\n",
        "\n",
        "ejemplo: ¿Cuál es la masa molar de un gas si 0,281 g de este ocupan un volumen de 0.125 L a una temperatura de 399.15 K y una presión de 1.022 atm?"
      ],
      "metadata": {
        "id": "kGa9rbo2Bjub"
      }
    },
    {
      "cell_type": "code",
      "source": [
        "def calcular_masa_molar(masa, volumen, presion, temperatura):\n",
        "    # Constante de los gases ideales en atm·L/mol·K\n",
        "    R = 0.0821\n",
        "    # Fórmula para la masa molar\n",
        "    masa_molar = (masa * R * temperatura) / (presion * volumen)\n",
        "    return masa_molar\n",
        "\n",
        "# Ejemplo de uso\n",
        "masa = 0.281  # en gramos\n",
        "volumen = 0.125  # en litros\n",
        "presion = 1.022  # en atm\n",
        "temperatura = 399.15  # en Kelvin (aproximadamente 25°C)\n",
        "\n",
        "masa_molar = calcular_masa_molar(masa, volumen, presion, temperatura)\n",
        "print(f\"La masa molar es: {masa_molar} g/mol\")"
      ],
      "metadata": {
        "colab": {
          "base_uri": "https://localhost:8080/"
        },
        "id": "Fta9th26DakD",
        "outputId": "60f2264c-1c59-438b-e17d-5513a2c10fee"
      },
      "execution_count": 44,
      "outputs": [
        {
          "output_type": "stream",
          "name": "stdout",
          "text": [
            "La masa molar es: 72.08164708414873 g/mol\n"
          ]
        }
      ]
    },
    {
      "cell_type": "markdown",
      "source": [
        "4. Calcule las contraciones de acido y base conjugada para la preparación de un buffer\n",
        "\n",
        "parametros:\n",
        "Ph, constante de acidez y el volumen en mL"
      ],
      "metadata": {
        "id": "iU3A42ImDsmz"
      }
    },
    {
      "cell_type": "code",
      "source": [
        "import math\n",
        "\n",
        "def calcular_concentraciones_buffer(ph, ka, volumen_ml):\n",
        "    \"\"\"\n",
        "    Calcula las concentraciones de ácido (HA) y base conjugada (A-) necesarias\n",
        "    para preparar un buffer.\n",
        "\n",
        "    :param ph: pH deseado\n",
        "    :param ka: constante de acidez del ácido (K_a)\n",
        "    :param volumen_ml: volumen de la solución en mL\n",
        "    :return: Concentraciones de HA y A- en mol/L\n",
        "    \"\"\"\n",
        "    # Calcular el pKa a partir del Ka\n",
        "    pKa = -math.log10(ka)\n",
        "\n",
        "    # Usar la ecuación de Henderson-Hasselbalch\n",
        "    ratio = 10**(ph - pKa)\n",
        "\n",
        "    # Suponemos que la concentración total deseada del buffer es 1 M\n",
        "    C_total = 1  # Se puede ajustar según sea necesario\n",
        "\n",
        "    # Concentraciones de HA y A-\n",
        "    A_conc = C_total / (1 + (1 / ratio))  # [A-]\n",
        "    HA_conc = C_total - A_conc              # [HA]\n",
        "\n",
        "    # Convertir el volumen de mL a L\n",
        "    volumen_litros = volumen_ml / 1000\n",
        "\n",
        "    return HA_conc, A_conc\n",
        "\n",
        "# Ejemplo de uso\n",
        "ph = 7.4       # pH deseado\n",
        "ka = 1.8e-5    # Constante de acidez para el ácido acético (CH3COOH)\n",
        "volumen_ml = 500  # Volumen en mL\n",
        "\n",
        "HA_conc, A_conc = calcular_concentraciones_buffer(ph, ka, volumen_ml)\n",
        "print(f'Concentración de ácido (HA): {HA_conc:.4f} M')\n",
        "print(f'Concentración de base conjugada (A-): {A_conc:.4f} M')"
      ],
      "metadata": {
        "colab": {
          "base_uri": "https://localhost:8080/"
        },
        "id": "u1TWzeNi-bYa",
        "outputId": "d6efad0b-a2e3-4758-f044-7ef84d452cda"
      },
      "execution_count": 4,
      "outputs": [
        {
          "output_type": "stream",
          "name": "stdout",
          "text": [
            "Concentración de ácido (HA): 0.0022 M\n",
            "Concentración de base conjugada (A-): 0.9978 M\n"
          ]
        }
      ]
    },
    {
      "cell_type": "markdown",
      "source": [
        "5. Calcular la energía liberada en una ecuación química\n",
        "\n",
        "Parámetros:\n",
        "Moles del reactivo\n",
        "Delta H de formación\n",
        "\n",
        "ejemplo: Sabiendo que la entalpía de formación del CCl4 es -135,4 kJ/mol, calcula la energía liberada cuando se emplean 1.4 moles de Cl2 en la formación de CCl4"
      ],
      "metadata": {
        "id": "oaVLMpydD_5i"
      }
    },
    {
      "cell_type": "code",
      "source": [
        "def calcular_energia_liberada(moles, delta_H):\n",
        "    # Calcula la energía usando la fórmula ΔE = moles * ΔH\n",
        "    energia = moles * delta_H\n",
        "    return energia\n",
        "\n",
        "# Ejemplo de uso\n",
        "moles = 1.4  # moles de reactivo\n",
        "delta_H = -315.8  # kJ/mol, ejemplo para formación de agua\n",
        "\n",
        "energia_liberada = calcular_energia_liberada(moles, delta_H)\n",
        "print(f\"La energía liberada es: {energia_liberada} kJ\")\n",
        "\n"
      ],
      "metadata": {
        "colab": {
          "base_uri": "https://localhost:8080/"
        },
        "id": "C7m5pUjmD_N0",
        "outputId": "0a86604f-0ecb-4ee9-84a6-efa45e61ef33"
      },
      "execution_count": 45,
      "outputs": [
        {
          "output_type": "stream",
          "name": "stdout",
          "text": [
            "La energía liberada es: -442.12 kJ\n"
          ]
        }
      ]
    },
    {
      "cell_type": "markdown",
      "source": [
        "6. Calcule el rendimiento porcentual\n",
        "\n",
        "parametros:\n",
        "Masa teorica y experimental\n",
        "\n",
        "ejemplo: Se realizó la síntesis de ácido fumárico, obteniendo 0.49 gramos como masa experimental, mientras que la masa teórica calculada era de 1.0 gramos. ¿Cuál es el rendimiento porcentual de la reacción?"
      ],
      "metadata": {
        "id": "1YychIOMFEkc"
      }
    },
    {
      "cell_type": "code",
      "source": [
        "def calcular_rendimiento_porcentual(masa_teorica, masa_exp):\n",
        "    \"\"\"\n",
        "    Calcula el rendimiento porcentual de una reacción.\n",
        "\n",
        "    Parámetros:\n",
        "    masa_teorica (float): Masa teórica esperada de producto (en gramos).\n",
        "    masa_exp (float): Masa experimental obtenida de producto (en gramos).\n",
        "\n",
        "    Retorna:\n",
        "    float: Rendimiento porcentual.\n",
        "    \"\"\"\n",
        "    if masa_teorica <= 0:\n",
        "        raise ValueError(\"La masa teórica debe ser mayor que cero.\")\n",
        "\n",
        "    rendimiento_porcentual = (masa_exp / masa_teorica) * 100\n",
        "    return rendimiento_porcentual\n",
        "\n",
        "# Ejemplo de uso\n",
        "masa_teorica = 1.0  # masa teórica en gramos\n",
        "masa_exp = 0.49  # masa experimental en gramos\n",
        "\n",
        "rendimiento = calcular_rendimiento_porcentual(masa_teorica, masa_exp)\n",
        "print(f'El rendimiento porcentual de la reacción es: {rendimiento:.2f}%')"
      ],
      "metadata": {
        "colab": {
          "base_uri": "https://localhost:8080/"
        },
        "id": "qrrD7DTwFFAD",
        "outputId": "8a4219af-53be-4386-87b1-07dbbf1ad6f3"
      },
      "execution_count": 25,
      "outputs": [
        {
          "output_type": "stream",
          "name": "stdout",
          "text": [
            "El rendimiento porcentual de la reacción es: 49.00%\n"
          ]
        }
      ]
    },
    {
      "cell_type": "markdown",
      "source": [
        "7. Calcular el calor especifico de un metal\n",
        "\n",
        "Masa, delta T y el calor especifico\n",
        "\n",
        "ejemplo: Se adicionaron 750 J de calor a una muestra de 25 g de un metal, provocando un aumento de temperatura de 15 °C. ¿Cuál es el calor específico del metal?"
      ],
      "metadata": {
        "id": "bRdXn77DFU3p"
      }
    },
    {
      "cell_type": "code",
      "source": [
        "def calcular_calor_especifico(Q, masa, delta_T):\n",
        "    # Calor específico = Q / (masa * ΔT)\n",
        "    calor_especifico = Q / (masa * delta_T)\n",
        "    return calor_especifico\n",
        "\n",
        "# Ejemplo de uso\n",
        "Q = 750  # en Joules\n",
        "masa = 25  # en gramos\n",
        "delta_T = 15  # en grados Celsius\n",
        "\n",
        "calor_especifico = calcular_calor_especifico(Q, masa, delta_T)\n",
        "print(f\"El calor específico del metal es: {calor_especifico} J/g·°C\")"
      ],
      "metadata": {
        "colab": {
          "base_uri": "https://localhost:8080/"
        },
        "id": "eMCiLSCiFVfC",
        "outputId": "1a112e56-936e-48f5-8d8a-97033107b938"
      },
      "execution_count": 48,
      "outputs": [
        {
          "output_type": "stream",
          "name": "stdout",
          "text": [
            "El calor específico del metal es: 2.0 J/g·°C\n"
          ]
        }
      ]
    },
    {
      "cell_type": "markdown",
      "source": [
        "8. Calculo que calcule la presión osmótica a 25°C\n",
        "\n",
        "Concentracion (g/L)\n",
        "p.m\n",
        "temperatura °C\n",
        "R es constante\n",
        "\n",
        "ejemplo: Calcula la presión osmótica de una disolución que contiene 24 g/L de sacarosa (C12H22O11)  en 0.5 L de disolución, a 20 ºC."
      ],
      "metadata": {
        "id": "ZoFMi_ktFuU5"
      }
    },
    {
      "cell_type": "code",
      "source": [
        "def calcular_presion_osmotica(concentracion_gL, pm_soluto, temperatura_C):\n",
        "    \"\"\"\n",
        "    Calcula la presión osmótica de una solución.\n",
        "\n",
        "    Parámetros:\n",
        "    concentracion_gL (float): Concentración de la solución en g/L.\n",
        "    pm_soluto (float): Masa molar del soluto en g/mol.\n",
        "    temperatura_C (float): Temperatura en °C.\n",
        "\n",
        "    Retorna:\n",
        "    float: Presión osmótica en atmósferas.\n",
        "    \"\"\"\n",
        "    # Constante de gases en L·atm·K⁻¹·mol⁻¹\n",
        "    R = 0.0821\n",
        "\n",
        "    # Convertir la temperatura a Kelvin\n",
        "    temperatura_K = temperatura_C + 273.15\n",
        "\n",
        "    # Calcular la concentración molar (M) a partir de g/L y PM\n",
        "    molaridad = concentracion_gL / pm_soluto\n",
        "\n",
        "    # Calcular la presión osmótica\n",
        "    presion_osmotica = molaridad * R * temperatura_K\n",
        "    return presion_osmotica\n",
        "\n",
        "# Ejemplo de uso\n",
        "concentracion_gL = 24.0  # Concentración en g/L\n",
        "pm_soluto = 342.30        # Masa molar del Sacarosa (C12H22O11) en g/mol\n",
        "temperatura_C = 20.0     # Temperatura en °C\n",
        "\n",
        "presion = calcular_presion_osmotica(concentracion_gL, pm_soluto, temperatura_C)\n",
        "print(f'La presión osmótica de la solución es: {presion:.2f} atm')"
      ],
      "metadata": {
        "colab": {
          "base_uri": "https://localhost:8080/"
        },
        "id": "YZjuvugKFurH",
        "outputId": "ddeb33f2-839b-4ae7-92c1-dc40838d8306"
      },
      "execution_count": 49,
      "outputs": [
        {
          "output_type": "stream",
          "name": "stdout",
          "text": [
            "La presión osmótica de la solución es: 1.69 atm\n"
          ]
        }
      ]
    },
    {
      "cell_type": "markdown",
      "source": [
        "9. Calcular el producto de solubilidad de una sal insoluble que calcule la solubilidad y regresar en Kps\n",
        "\n",
        "ejemplo: Se desea calcular el producto de solubilidad (Kps) de el sulfato de plomo (II) (PbSO₄). Si la solubilidad del PbSO₄ en agua a 25 °C es de 0.00020 mol/L, ¿cuál es el valor de Kps para esta sal insoluble?"
      ],
      "metadata": {
        "id": "iSdT_yU6GSQY"
      }
    },
    {
      "cell_type": "code",
      "source": [
        "def calcular_ksp(solubilidad):\n",
        "    \"\"\"\n",
        "    Calcula el producto de solubilidad (Ksp) de una sal insoluble.\n",
        "\n",
        "    :param solubilidad: Solubilidad de la sal en mol/L\n",
        "    :return: Producto de solubilidad (Ksp)\n",
        "    \"\"\"\n",
        "    if solubilidad < 0:\n",
        "        raise ValueError(\"La solubilidad no puede ser negativa.\")\n",
        "\n",
        "    # Calculo del Ksp\n",
        "    ksp = solubilidad ** 2  # Para la sal AB: Ksp = S^2\n",
        "    return ksp\n",
        "\n",
        "# Ejemplo de uso directo de la función\n",
        "solubilidad_ejemplo = 0.00020  # Sal en mol/L\n",
        "ksp_resultado = calcular_ksp(solubilidad_ejemplo)\n",
        "print(f'El producto de solubilidad Ksp es: {ksp_resultado:.5e}')"
      ],
      "metadata": {
        "colab": {
          "base_uri": "https://localhost:8080/"
        },
        "id": "I86XS9YKATXe",
        "outputId": "a3d94925-b6e4-4ebe-9e5f-6fa303a97aa8"
      },
      "execution_count": 50,
      "outputs": [
        {
          "output_type": "stream",
          "name": "stdout",
          "text": [
            "El producto de solubilidad Ksp es: 4.00000e-08\n"
          ]
        }
      ]
    },
    {
      "cell_type": "markdown",
      "source": [
        "10. Escoja un problema\n",
        "\n",
        "parametro:\n",
        "tener grafica, utiliza numphy, panda, matloblit"
      ],
      "metadata": {
        "id": "alFWRYHLJP_R"
      }
    },
    {
      "cell_type": "code",
      "source": [
        "import numpy as np\n",
        "import matplotlib.pyplot as plt\n",
        "\n",
        "def calcular_concentraciones(pH_values):\n",
        "    \"\"\"\n",
        "    Calcula la concentración de iones hidrógeno [H+] a partir de valores de pH.\n",
        "\n",
        "    Args:\n",
        "        pH_values (list): Lista de valores de pH.\n",
        "\n",
        "    Returns:\n",
        "        list: Lista de concentraciones [H+] en mol/L.\n",
        "    \"\"\"\n",
        "    return [10**(-pH) for pH in pH_values]\n",
        "\n",
        "def graficar_concentraciones(pH_values, concentraciones):\n",
        "    \"\"\"\n",
        "    Grafica las concentraciones de [H+] en una gráfica de barras.\n",
        "\n",
        "    Args:\n",
        "        pH_values (list): Lista de valores de pH.\n",
        "        concentraciones (list): Lista de concentraciones [H+] en mol/L.\n",
        "    \"\"\"\n",
        "    plt.plot(pH_values, concentraciones, color='#CB9DF0')\n",
        "    plt.xlabel('pH', color= \"blue\")\n",
        "    plt.ylabel('[H+] (mol/L)', color=\"blue\")\n",
        "    plt.title('Concentración de iones hidrógeno [H+] vs pH')\n",
        "    plt.yscale('log')  # Usamos escala logarítmica para mejor visualización\n",
        "    plt.xticks(np.arange(min(pH_values), max(pH_values)+1, 1))\n",
        "    plt.grid(axis='y')\n",
        "    plt.show()\n",
        "\n",
        "# Ejemplo de uso\n",
        "pH_values = [1, 2, 3, 4, 5, 6, 7, 8, 9, 10]  # Valores de pH\n",
        "concentraciones = calcular_concentraciones(pH_values)\n",
        "graficar_concentraciones(pH_values, concentraciones)"
      ],
      "metadata": {
        "colab": {
          "base_uri": "https://localhost:8080/",
          "height": 472
        },
        "id": "sXqnA6hcKuKy",
        "outputId": "14416b65-41e5-493c-869d-0a21fd9c89dc"
      },
      "execution_count": 57,
      "outputs": [
        {
          "output_type": "display_data",
          "data": {
            "text/plain": [
              "<Figure size 640x480 with 1 Axes>"
            ],
            "image/png": "[encoded data removed]"
          },
          "metadata": {}
        }
      ]
    }
  ]
}